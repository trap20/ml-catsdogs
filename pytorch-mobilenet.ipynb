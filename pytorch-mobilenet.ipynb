{
 "cells": [
  {
   "cell_type": "code",
   "execution_count": 30,
   "metadata": {},
   "outputs": [
    {
     "name": "stdout",
     "output_type": "stream",
     "text": [
      "The memory_profiler extension is already loaded. To reload it, use:\n",
      "  %reload_ext memory_profiler\n"
     ]
    }
   ],
   "source": [
    "%matplotlib inline\n",
    "%load_ext memory_profiler\n",
    "import torch\n",
    "import torch.nn as nn\n",
    "import torch.backends.cudnn as cudnn\n",
    "import torchvision\n",
    "import torchvision.transforms as transforms\n",
    "import torchvision.models as models\n",
    "from torch.autograd import Variable\n",
    "import bcolz\n",
    "from tqdm import tqdm,tnrange, tqdm_notebook\n",
    "tqdm.monitor_interval = 0\n",
    "from itertools import islice\n",
    "import matplotlib.pyplot as plt\n",
    "import numpy as np\n",
    "#import main; reload(main)\n",
    "from memory_profiler import profile\n",
    "from ipywidgets import widgets\n",
    "from IPython.display import display"
   ]
  },
  {
   "cell_type": "code",
   "execution_count": 43,
   "metadata": {},
   "outputs": [
    {
     "name": "stdout",
     "output_type": "stream",
     "text": [
      "['cat', 'dog'] ('train/cat/cat.0.jpg', 0) 23000\n"
     ]
    }
   ],
   "source": [
    "batch=120\n",
    "workers=8\n",
    "trainset = torchvision.datasets.ImageFolder('train',\n",
    "                                           transform=transforms.Compose([\n",
    "                                               transforms.RandomResizedCrop(224),\n",
    "                                               #transforms.RandomHorizontalFlip(),\n",
    "                                               transforms.ToTensor(),\n",
    "                                               transforms.Normalize(mean=[0.485, 0.456, 0.406],std=[0.229, 0.224, 0.225]),\n",
    "                                           ]))\n",
    "trainloader = torch.utils.data.DataLoader(trainset, batch_size=batch,\n",
    "                                          shuffle=True, num_workers=workers,pin_memory=True)\n",
    "validset = torchvision.datasets.ImageFolder('valid',\n",
    "                                           transform=transforms.Compose([\n",
    "                                               transforms.RandomResizedCrop(224),\n",
    "                                               #transforms.RandomHorizontalFlip(),\n",
    "                                               transforms.ToTensor(),\n",
    "                                               transforms.Normalize(mean=[0.485, 0.456, 0.406],std=[0.229, 0.224, 0.225]),\n",
    "                                           ]))\n",
    "validloader = torch.utils.data.DataLoader(validset, batch_size=batch,\n",
    "                                          shuffle=True, num_workers=workers)\n",
    "print(trainset.classes,trainset.imgs[0],len(trainset.imgs))"
   ]
  },
  {
   "cell_type": "code",
   "execution_count": 44,
   "metadata": {},
   "outputs": [],
   "source": [
    "if 'net' in locals():\n",
    "    del net\n",
    "net=models.vgg16(pretrained=True)\n",
    "#net=torchvision.models.resnet18()\n",
    "for param in net.parameters():\n",
    "    param.requires_grad = False\n",
    "# Replace the last fully-connected layer\n",
    "# Parameters of newly constructed modules have requires_grad=True by default\n",
    "net.fc = nn.Linear(512, 2)"
   ]
  },
  {
   "cell_type": "code",
   "execution_count": 45,
   "metadata": {},
   "outputs": [],
   "source": [
    "import torch.optim as optim\n",
    "\n",
    "criterion = nn.CrossEntropyLoss().cuda()\n",
    "# Optimize only the classifier\n",
    "optimizer = optim.Adam(net.fc.parameters(), lr=1e-3)"
   ]
  },
  {
   "cell_type": "code",
   "execution_count": 51,
   "metadata": {},
   "outputs": [
    {
     "data": {
      "application/vnd.jupyter.widget-view+json": {
       "model_id": "b75760bd6fa7429496112dcb80cf66cb",
       "version_major": 2,
       "version_minor": 0
      },
      "text/html": [
       "<p>Failed to display Jupyter Widget of type <code>ToggleButton</code>.</p>\n",
       "<p>\n",
       "  If you're reading this message in the Jupyter Notebook or JupyterLab Notebook, it may mean\n",
       "  that the widgets JavaScript is still loading. If this message persists, it\n",
       "  likely means that the widgets JavaScript library is either not installed or\n",
       "  not enabled. See the <a href=\"https://ipywidgets.readthedocs.io/en/stable/user_install.html\">Jupyter\n",
       "  Widgets Documentation</a> for setup instructions.\n",
       "</p>\n",
       "<p>\n",
       "  If you're reading this message in another frontend (for example, a static\n",
       "  rendering on GitHub or <a href=\"https://nbviewer.jupyter.org/\">NBViewer</a>),\n",
       "  it may mean that your frontend doesn't currently support widgets.\n",
       "</p>\n"
      ],
      "text/plain": [
       "ToggleButton(value=False, description='Break')"
      ]
     },
     "metadata": {},
     "output_type": "display_data"
    },
    {
     "data": {
      "application/vnd.jupyter.widget-view+json": {
       "model_id": "2f6db16b37094acaba918332f87b1c15",
       "version_major": 2,
       "version_minor": 0
      },
      "text/html": [
       "<p>Failed to display Jupyter Widget of type <code>HBox</code>.</p>\n",
       "<p>\n",
       "  If you're reading this message in the Jupyter Notebook or JupyterLab Notebook, it may mean\n",
       "  that the widgets JavaScript is still loading. If this message persists, it\n",
       "  likely means that the widgets JavaScript library is either not installed or\n",
       "  not enabled. See the <a href=\"https://ipywidgets.readthedocs.io/en/stable/user_install.html\">Jupyter\n",
       "  Widgets Documentation</a> for setup instructions.\n",
       "</p>\n",
       "<p>\n",
       "  If you're reading this message in another frontend (for example, a static\n",
       "  rendering on GitHub or <a href=\"https://nbviewer.jupyter.org/\">NBViewer</a>),\n",
       "  it may mean that your frontend doesn't currently support widgets.\n",
       "</p>\n"
      ],
      "text/plain": [
       "HBox(children=(IntProgress(value=0, description='Training', max=2), HTML(value='')))"
      ]
     },
     "metadata": {},
     "output_type": "display_data"
    },
    {
     "data": {
      "application/vnd.jupyter.widget-view+json": {
       "model_id": "64aa93e07c7a4a09a518bb1fe3dd4cb5",
       "version_major": 2,
       "version_minor": 0
      },
      "text/html": [
       "<p>Failed to display Jupyter Widget of type <code>HBox</code>.</p>\n",
       "<p>\n",
       "  If you're reading this message in the Jupyter Notebook or JupyterLab Notebook, it may mean\n",
       "  that the widgets JavaScript is still loading. If this message persists, it\n",
       "  likely means that the widgets JavaScript library is either not installed or\n",
       "  not enabled. See the <a href=\"https://ipywidgets.readthedocs.io/en/stable/user_install.html\">Jupyter\n",
       "  Widgets Documentation</a> for setup instructions.\n",
       "</p>\n",
       "<p>\n",
       "  If you're reading this message in another frontend (for example, a static\n",
       "  rendering on GitHub or <a href=\"https://nbviewer.jupyter.org/\">NBViewer</a>),\n",
       "  it may mean that your frontend doesn't currently support widgets.\n",
       "</p>\n"
      ],
      "text/plain": [
       "HBox(children=(IntProgress(value=1, bar_style='info', description='Epoch 1', max=1), HTML(value='')))"
      ]
     },
     "metadata": {},
     "output_type": "display_data"
    }
   ],
   "source": [
    "import threading\n",
    "from IPython.core.debugger import set_trace\n",
    "\n",
    "def train(network, loader, vloader, breaking):\n",
    "    with tnrange(2, desc=\"Training\", unit=\"epoch\") as epochbar:\n",
    "        for epoch in epochbar:  # loop over the dataset multiple times\n",
    "            with tqdm_notebook(\n",
    "                      #total=len(loader.dataset.imgs)/loader.batch_size,\n",
    "                      desc=\"Epoch %d\" % (epoch + 1),\n",
    "                      unit=\"batch\",\n",
    "                      leave=True) as batchbar:\n",
    "                training_loss=0.0\n",
    "                for i, data in enumerate(loader, 0):\n",
    "                    #print(\"%d, data length: %d \" % (i,len(data[0])))\n",
    "                    if breaking.value:\n",
    "                        print('Aborted Training')\n",
    "                        return\n",
    "\n",
    "                    # get the inputs\n",
    "                    inputs, labels = data\n",
    "                    inputs, labels = Variable(inputs, requires_grad=True).cuda(), Variable(labels).cuda(async=True)\n",
    "\n",
    "                    # zero the parameter gradients\n",
    "                    optimizer.zero_grad()\n",
    "                    \n",
    "                    # forward + backward + optimize\n",
    "                    outputs = network(inputs)\n",
    "                    loss = criterion(outputs, labels)\n",
    "                    loss.backward()\n",
    "                    optimizer.step()\n",
    "                    \n",
    "                    # update text\n",
    "                    training_loss = loss.cpu()[0]\n",
    "                    batchbar.set_postfix(loss=training_loss/loader.batch_size,refresh=False)\n",
    "                    batchbar.update()\n",
    "                \n",
    "                validation_loss=0.0\n",
    "                for i, data in enumerate(vloader,0):\n",
    "                    batchbar.set_postfix(loss=training_loss,validation_loss=\"validating... %d\"%i)\n",
    "                     # get the inputs\n",
    "                    inputs, labels = data\n",
    "                    inputs, labels = Variable(inputs, requires_grad=False).cuda(), Variable(labels).cuda(async=True)\n",
    "\n",
    "                    # forward\n",
    "                    outputs = network(inputs)\n",
    "                    loss = criterion(outputs, labels)\n",
    "                    validation_loss += loss.cpu()[0]\n",
    "                \n",
    "                # update text\n",
    "                batchbar.set_postfix(loss=training_loss,validation_loss=validation_loss/len(vloader.dataset.imgs))\n",
    "\n",
    "    print('Finished Training')\n",
    "\n",
    "def runtest():\n",
    "    breaking=widgets.ToggleButton(description=\"Break\")\n",
    "    display(breaking)\n",
    "    bg=threading.Thread(target=train,args=(net.cuda(),trainloader,validloader,breaking,))\n",
    "    bg.start()\n",
    "\n",
    "cudnn.benchmark=True\n",
    "runtest()\n",
    "#train(net.cuda(),trainloader,validloader,widgets.ToggleButton(description=\"Break\"))"
   ]
  },
  {
   "cell_type": "code",
   "execution_count": null,
   "metadata": {},
   "outputs": [],
   "source": []
  }
 ],
 "metadata": {
  "kernelspec": {
   "display_name": "Environment (conda_pytorch_p36)",
   "language": "python",
   "name": "conda_pytorch_p36"
  },
  "language_info": {
   "codemirror_mode": {
    "name": "ipython",
    "version": 3
   },
   "file_extension": ".py",
   "mimetype": "text/x-python",
   "name": "python",
   "nbconvert_exporter": "python",
   "pygments_lexer": "ipython3",
   "version": "3.6.3"
  }
 },
 "nbformat": 4,
 "nbformat_minor": 2
}
